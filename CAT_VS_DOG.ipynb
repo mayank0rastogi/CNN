{
  "nbformat": 4,
  "nbformat_minor": 0,
  "metadata": {
    "colab": {
      "name": "CAT VS DOG.ipynb",
      "provenance": [],
      "collapsed_sections": []
    },
    "kernelspec": {
      "name": "python3",
      "display_name": "Python 3"
    }
  },
  "cells": [
    {
      "cell_type": "code",
      "metadata": {
        "id": "lRaoBzx37JDO",
        "colab_type": "code",
        "colab": {
          "base_uri": "https://localhost:8080/",
          "height": 122
        },
        "outputId": "7399b7b2-dfe3-4309-f427-b288a320e072"
      },
      "source": [
        "#get access google drive data into google colab\n",
        "from google.colab import drive\n",
        "drive.mount('/content/drive')"
      ],
      "execution_count": null,
      "outputs": [
        {
          "output_type": "stream",
          "text": [
            "Go to this URL in a browser: https://accounts.google.com/o/oauth2/auth?client_id=947318989803-6bn6qk8qdgf4n4g3pfee6491hc0brc4i.apps.googleusercontent.com&redirect_uri=urn%3aietf%3awg%3aoauth%3a2.0%3aoob&response_type=code&scope=email%20https%3a%2f%2fwww.googleapis.com%2fauth%2fdocs.test%20https%3a%2f%2fwww.googleapis.com%2fauth%2fdrive%20https%3a%2f%2fwww.googleapis.com%2fauth%2fdrive.photos.readonly%20https%3a%2f%2fwww.googleapis.com%2fauth%2fpeopleapi.readonly\n",
            "\n",
            "Enter your authorization code:\n",
            "··········\n",
            "Mounted at /content/drive\n"
          ],
          "name": "stdout"
        }
      ]
    },
    {
      "cell_type": "code",
      "metadata": {
        "id": "9d-IOaQoarjr",
        "colab_type": "code",
        "colab": {
          "base_uri": "https://localhost:8080/",
          "height": 34
        },
        "outputId": "9b92ff19-e8cf-4f04-f1c4-b187870745af"
      },
      "source": [
        "from zipfile import ZipFile\n",
        "file_name = \"/content/drive/My Drive/dataset1.zip\"\n",
        "with ZipFile(file_name,'r') as zip:\n",
        "  zip.extractall()\n",
        "  print('finish')"
      ],
      "execution_count": null,
      "outputs": [
        {
          "output_type": "stream",
          "text": [
            "finish\n"
          ],
          "name": "stdout"
        }
      ]
    },
    {
      "cell_type": "code",
      "metadata": {
        "id": "99IDZ-O1daoF",
        "colab_type": "code",
        "colab": {}
      },
      "source": [
        "# Importing the Keras libraries and packages\n",
        "from tensorflow.keras.models import Sequential\n",
        "from tensorflow.keras.layers import Conv2D\n",
        "from tensorflow.keras.layers import MaxPooling2D\n",
        "from tensorflow.keras.layers import Flatten\n",
        "from tensorflow.keras.layers import Dense"
      ],
      "execution_count": null,
      "outputs": []
    },
    {
      "cell_type": "code",
      "metadata": {
        "id": "Po4hmA8mdhU5",
        "colab_type": "code",
        "colab": {}
      },
      "source": [
        "# Initialising the CNN\n",
        "CNN_Classifier=Sequential();"
      ],
      "execution_count": null,
      "outputs": []
    },
    {
      "cell_type": "code",
      "metadata": {
        "id": "r9UtK_RUdlWU",
        "colab_type": "code",
        "colab": {}
      },
      "source": [
        "# Step 1 - Convolution\n",
        "CNN_Classifier.add(Conv2D(32,(3,3),input_shape=(64,64,3),activation='relu'))\n",
        "# 32 - no.of filters"
      ],
      "execution_count": null,
      "outputs": []
    },
    {
      "cell_type": "code",
      "metadata": {
        "id": "qWj4HBOHdrI9",
        "colab_type": "code",
        "colab": {}
      },
      "source": [
        "# Step 2 - Pooling\n",
        "CNN_Classifier.add(MaxPooling2D(pool_size=(2,2)))"
      ],
      "execution_count": null,
      "outputs": []
    },
    {
      "cell_type": "code",
      "metadata": {
        "id": "MPSE98xIdvMh",
        "colab_type": "code",
        "colab": {}
      },
      "source": [
        "# Step 1 - Convolution\n",
        "CNN_Classifier.add(Conv2D(16,(3,3),activation='relu'))"
      ],
      "execution_count": null,
      "outputs": []
    },
    {
      "cell_type": "code",
      "metadata": {
        "id": "L8dnEbQNdyQ6",
        "colab_type": "code",
        "colab": {}
      },
      "source": [
        "# Step 2 - Pooling\n",
        "CNN_Classifier.add(MaxPooling2D(pool_size=(2,2)))"
      ],
      "execution_count": null,
      "outputs": []
    },
    {
      "cell_type": "code",
      "metadata": {
        "id": "svtRc73Cd23T",
        "colab_type": "code",
        "colab": {}
      },
      "source": [
        "# Step 3 - Flattening\n",
        "CNN_Classifier.add(Flatten())"
      ],
      "execution_count": null,
      "outputs": []
    },
    {
      "cell_type": "code",
      "metadata": {
        "id": "RWLM7cptd73y",
        "colab_type": "code",
        "colab": {}
      },
      "source": [
        "# Step 4 - Full connection\n",
        "CNN_Classifier.add(Dense(units=128, activation='relu'))    ### hidden layer\n",
        "CNN_Classifier.add(Dense(units=1, activation='sigmoid'))   ## output layer"
      ],
      "execution_count": null,
      "outputs": []
    },
    {
      "cell_type": "code",
      "metadata": {
        "id": "tz0BqMz-eAA8",
        "colab_type": "code",
        "colab": {}
      },
      "source": [
        "# Compiling the CNN\n",
        "CNN_Classifier.compile(optimizer ='adam',loss='binary_crossentropy',metrics=['accuracy'])"
      ],
      "execution_count": null,
      "outputs": []
    },
    {
      "cell_type": "code",
      "metadata": {
        "id": "q8PxMrh9eDUA",
        "colab_type": "code",
        "colab": {}
      },
      "source": [
        "# https://keras.io/api/preprocessing/image/#imagedatagenerator-class\n",
        "\n",
        "from keras.preprocessing.image import ImageDataGenerator\n",
        "\n",
        "train_datagen = ImageDataGenerator(rescale = 1./255,\n",
        "                                   shear_range = 0.2,\n",
        "                                   zoom_range = 0.2,\n",
        "                                   horizontal_flip = True)\n",
        "test_datagen = ImageDataGenerator(rescale = 1./255)"
      ],
      "execution_count": null,
      "outputs": []
    },
    {
      "cell_type": "code",
      "metadata": {
        "id": "RIyNMAcveHcH",
        "colab_type": "code",
        "colab": {
          "base_uri": "https://localhost:8080/",
          "height": 34
        },
        "outputId": "b63b68c2-69ea-4f45-b5a3-b1e3a8768e86"
      },
      "source": [
        "training_set = train_datagen.flow_from_directory('/content/dataset/training_set',\n",
        "                                                 target_size = (64, 64),\n",
        "                                                 batch_size = 32,\n",
        "                                                 class_mode = 'binary')"
      ],
      "execution_count": null,
      "outputs": [
        {
          "output_type": "stream",
          "text": [
            "Found 8000 images belonging to 2 classes.\n"
          ],
          "name": "stdout"
        }
      ]
    },
    {
      "cell_type": "code",
      "metadata": {
        "id": "SVfPDipneHh1",
        "colab_type": "code",
        "colab": {
          "base_uri": "https://localhost:8080/",
          "height": 34
        },
        "outputId": "2adab7df-13ba-450f-aeb3-8f7c46d0d34e"
      },
      "source": [
        "test_set = test_datagen.flow_from_directory('/content/dataset/test_set',\n",
        "                                            target_size = (64, 64),\n",
        "                                            batch_size = 32,\n",
        "                                            class_mode = 'binary')"
      ],
      "execution_count": null,
      "outputs": [
        {
          "output_type": "stream",
          "text": [
            "Found 2000 images belonging to 2 classes.\n"
          ],
          "name": "stdout"
        }
      ]
    },
    {
      "cell_type": "code",
      "metadata": {
        "id": "yivgcZySfmmM",
        "colab_type": "code",
        "colab": {
          "base_uri": "https://localhost:8080/",
          "height": 1000
        },
        "outputId": "c0f2870e-9ff6-447c-925b-965f42ab2951"
      },
      "source": [
        "CNN_Classifier.fit_generator(training_set,\n",
        "                         steps_per_epoch = 250,\n",
        "                         epochs = 100,\n",
        "                         validation_data = test_set,\n",
        "                         validation_steps = 60)"
      ],
      "execution_count": 38,
      "outputs": [
        {
          "output_type": "stream",
          "text": [
            "WARNING:tensorflow:From <ipython-input-38-9c68498cbcec>:5: Model.fit_generator (from tensorflow.python.keras.engine.training) is deprecated and will be removed in a future version.\n",
            "Instructions for updating:\n",
            "Please use Model.fit, which supports generators.\n",
            "Epoch 1/100\n",
            "250/250 [==============================] - 65s 260ms/step - loss: 0.6782 - accuracy: 0.5721 - val_loss: 0.6539 - val_accuracy: 0.6349\n",
            "Epoch 2/100\n",
            "250/250 [==============================] - 65s 258ms/step - loss: 0.6205 - accuracy: 0.6570 - val_loss: 0.5920 - val_accuracy: 0.6833\n",
            "Epoch 3/100\n",
            "250/250 [==============================] - 65s 259ms/step - loss: 0.5847 - accuracy: 0.6950 - val_loss: 0.5719 - val_accuracy: 0.7026\n",
            "Epoch 4/100\n",
            "250/250 [==============================] - 65s 258ms/step - loss: 0.5547 - accuracy: 0.7149 - val_loss: 0.5456 - val_accuracy: 0.7240\n",
            "Epoch 5/100\n",
            "250/250 [==============================] - 64s 257ms/step - loss: 0.5399 - accuracy: 0.7293 - val_loss: 0.5670 - val_accuracy: 0.7104\n",
            "Epoch 6/100\n",
            "250/250 [==============================] - 64s 257ms/step - loss: 0.5293 - accuracy: 0.7343 - val_loss: 0.4971 - val_accuracy: 0.7646\n",
            "Epoch 7/100\n",
            "250/250 [==============================] - 64s 257ms/step - loss: 0.5030 - accuracy: 0.7536 - val_loss: 0.5187 - val_accuracy: 0.7432\n",
            "Epoch 8/100\n",
            "250/250 [==============================] - 64s 258ms/step - loss: 0.4950 - accuracy: 0.7596 - val_loss: 0.4973 - val_accuracy: 0.7807\n",
            "Epoch 9/100\n",
            "250/250 [==============================] - 65s 259ms/step - loss: 0.4774 - accuracy: 0.7686 - val_loss: 0.4862 - val_accuracy: 0.7760\n",
            "Epoch 10/100\n",
            "250/250 [==============================] - 64s 257ms/step - loss: 0.4648 - accuracy: 0.7759 - val_loss: 0.4795 - val_accuracy: 0.7724\n",
            "Epoch 11/100\n",
            "250/250 [==============================] - 64s 256ms/step - loss: 0.4559 - accuracy: 0.7839 - val_loss: 0.5263 - val_accuracy: 0.7547\n",
            "Epoch 12/100\n",
            "250/250 [==============================] - 64s 257ms/step - loss: 0.4456 - accuracy: 0.7875 - val_loss: 0.5285 - val_accuracy: 0.7573\n",
            "Epoch 13/100\n",
            "250/250 [==============================] - 64s 256ms/step - loss: 0.4470 - accuracy: 0.7881 - val_loss: 0.4602 - val_accuracy: 0.7797\n",
            "Epoch 14/100\n",
            "250/250 [==============================] - 65s 258ms/step - loss: 0.4270 - accuracy: 0.7958 - val_loss: 0.5043 - val_accuracy: 0.7745\n",
            "Epoch 15/100\n",
            "250/250 [==============================] - 64s 257ms/step - loss: 0.4199 - accuracy: 0.8002 - val_loss: 0.5455 - val_accuracy: 0.7568\n",
            "Epoch 16/100\n",
            "250/250 [==============================] - 64s 256ms/step - loss: 0.4203 - accuracy: 0.8041 - val_loss: 0.4674 - val_accuracy: 0.7828\n",
            "Epoch 17/100\n",
            "250/250 [==============================] - 64s 258ms/step - loss: 0.4087 - accuracy: 0.8105 - val_loss: 0.4628 - val_accuracy: 0.7812\n",
            "Epoch 18/100\n",
            "250/250 [==============================] - 64s 256ms/step - loss: 0.4006 - accuracy: 0.8206 - val_loss: 0.4885 - val_accuracy: 0.7750\n",
            "Epoch 19/100\n",
            "250/250 [==============================] - 65s 258ms/step - loss: 0.3928 - accuracy: 0.8186 - val_loss: 0.4891 - val_accuracy: 0.7922\n",
            "Epoch 20/100\n",
            "250/250 [==============================] - 64s 254ms/step - loss: 0.3891 - accuracy: 0.8227 - val_loss: 0.4796 - val_accuracy: 0.7911\n",
            "Epoch 21/100\n",
            "250/250 [==============================] - 64s 255ms/step - loss: 0.3873 - accuracy: 0.8264 - val_loss: 0.4711 - val_accuracy: 0.7974\n",
            "Epoch 22/100\n",
            "250/250 [==============================] - 64s 256ms/step - loss: 0.3614 - accuracy: 0.8366 - val_loss: 0.4793 - val_accuracy: 0.7927\n",
            "Epoch 23/100\n",
            "250/250 [==============================] - 64s 256ms/step - loss: 0.3533 - accuracy: 0.8419 - val_loss: 0.5288 - val_accuracy: 0.7703\n",
            "Epoch 24/100\n",
            "250/250 [==============================] - 68s 271ms/step - loss: 0.3480 - accuracy: 0.8464 - val_loss: 0.4891 - val_accuracy: 0.7948\n",
            "Epoch 25/100\n",
            "250/250 [==============================] - 64s 256ms/step - loss: 0.3467 - accuracy: 0.8450 - val_loss: 0.4763 - val_accuracy: 0.8000\n",
            "Epoch 26/100\n",
            "250/250 [==============================] - 64s 256ms/step - loss: 0.3323 - accuracy: 0.8482 - val_loss: 0.4948 - val_accuracy: 0.7849\n",
            "Epoch 27/100\n",
            "250/250 [==============================] - 64s 256ms/step - loss: 0.3223 - accuracy: 0.8583 - val_loss: 0.5232 - val_accuracy: 0.7661\n",
            "Epoch 28/100\n",
            "250/250 [==============================] - 64s 257ms/step - loss: 0.3125 - accuracy: 0.8664 - val_loss: 0.5071 - val_accuracy: 0.7948\n",
            "Epoch 29/100\n",
            "250/250 [==============================] - 64s 258ms/step - loss: 0.3092 - accuracy: 0.8618 - val_loss: 0.4891 - val_accuracy: 0.7979\n",
            "Epoch 30/100\n",
            "250/250 [==============================] - 64s 256ms/step - loss: 0.2932 - accuracy: 0.8750 - val_loss: 0.4964 - val_accuracy: 0.7943\n",
            "Epoch 31/100\n",
            "250/250 [==============================] - 64s 256ms/step - loss: 0.2913 - accuracy: 0.8739 - val_loss: 0.4819 - val_accuracy: 0.8036\n",
            "Epoch 32/100\n",
            "250/250 [==============================] - 64s 257ms/step - loss: 0.2778 - accuracy: 0.8844 - val_loss: 0.5117 - val_accuracy: 0.7953\n",
            "Epoch 33/100\n",
            "250/250 [==============================] - 64s 256ms/step - loss: 0.2803 - accuracy: 0.8799 - val_loss: 0.5152 - val_accuracy: 0.8042\n",
            "Epoch 34/100\n",
            "250/250 [==============================] - 64s 257ms/step - loss: 0.2552 - accuracy: 0.8884 - val_loss: 0.5005 - val_accuracy: 0.8036\n",
            "Epoch 35/100\n",
            "250/250 [==============================] - 63s 254ms/step - loss: 0.2593 - accuracy: 0.8910 - val_loss: 0.5221 - val_accuracy: 0.7953\n",
            "Epoch 36/100\n",
            "250/250 [==============================] - 64s 256ms/step - loss: 0.2432 - accuracy: 0.8980 - val_loss: 0.5078 - val_accuracy: 0.8052\n",
            "Epoch 37/100\n",
            "250/250 [==============================] - 64s 256ms/step - loss: 0.2363 - accuracy: 0.9025 - val_loss: 0.5408 - val_accuracy: 0.8047\n",
            "Epoch 38/100\n",
            "250/250 [==============================] - 67s 267ms/step - loss: 0.2384 - accuracy: 0.8990 - val_loss: 0.5649 - val_accuracy: 0.7990\n",
            "Epoch 39/100\n",
            "250/250 [==============================] - 63s 252ms/step - loss: 0.2231 - accuracy: 0.9091 - val_loss: 0.5635 - val_accuracy: 0.7833\n",
            "Epoch 40/100\n",
            "250/250 [==============================] - 62s 248ms/step - loss: 0.2237 - accuracy: 0.9054 - val_loss: 0.5601 - val_accuracy: 0.8026\n",
            "Epoch 41/100\n",
            "250/250 [==============================] - 62s 249ms/step - loss: 0.2071 - accuracy: 0.9136 - val_loss: 0.6631 - val_accuracy: 0.7766\n",
            "Epoch 42/100\n",
            "250/250 [==============================] - 62s 248ms/step - loss: 0.2085 - accuracy: 0.9143 - val_loss: 0.5768 - val_accuracy: 0.7922\n",
            "Epoch 43/100\n",
            "250/250 [==============================] - 64s 255ms/step - loss: 0.2065 - accuracy: 0.9145 - val_loss: 0.6095 - val_accuracy: 0.7823\n",
            "Epoch 44/100\n",
            "250/250 [==============================] - 63s 254ms/step - loss: 0.2018 - accuracy: 0.9199 - val_loss: 0.5940 - val_accuracy: 0.7943\n",
            "Epoch 45/100\n",
            "250/250 [==============================] - 63s 253ms/step - loss: 0.1888 - accuracy: 0.9240 - val_loss: 0.5701 - val_accuracy: 0.8062\n",
            "Epoch 46/100\n",
            "250/250 [==============================] - 63s 254ms/step - loss: 0.1880 - accuracy: 0.9222 - val_loss: 0.6524 - val_accuracy: 0.7760\n",
            "Epoch 47/100\n",
            "250/250 [==============================] - 63s 252ms/step - loss: 0.1854 - accuracy: 0.9244 - val_loss: 0.6212 - val_accuracy: 0.8062\n",
            "Epoch 48/100\n",
            "250/250 [==============================] - 67s 267ms/step - loss: 0.1696 - accuracy: 0.9336 - val_loss: 0.6321 - val_accuracy: 0.7885\n",
            "Epoch 49/100\n",
            "250/250 [==============================] - 64s 254ms/step - loss: 0.1681 - accuracy: 0.9324 - val_loss: 0.6724 - val_accuracy: 0.7833\n",
            "Epoch 50/100\n",
            "250/250 [==============================] - 63s 252ms/step - loss: 0.1665 - accuracy: 0.9329 - val_loss: 0.6592 - val_accuracy: 0.7792\n",
            "Epoch 51/100\n",
            "250/250 [==============================] - 63s 252ms/step - loss: 0.1601 - accuracy: 0.9362 - val_loss: 0.6778 - val_accuracy: 0.7844\n",
            "Epoch 52/100\n",
            "250/250 [==============================] - 63s 252ms/step - loss: 0.1524 - accuracy: 0.9395 - val_loss: 0.7144 - val_accuracy: 0.7745\n",
            "Epoch 53/100\n",
            "250/250 [==============================] - 63s 252ms/step - loss: 0.1542 - accuracy: 0.9374 - val_loss: 0.6883 - val_accuracy: 0.7917\n",
            "Epoch 54/100\n",
            "250/250 [==============================] - 63s 254ms/step - loss: 0.1437 - accuracy: 0.9448 - val_loss: 0.6823 - val_accuracy: 0.8016\n",
            "Epoch 55/100\n",
            "250/250 [==============================] - 63s 252ms/step - loss: 0.1407 - accuracy: 0.9445 - val_loss: 0.7103 - val_accuracy: 0.7859\n",
            "Epoch 56/100\n",
            "250/250 [==============================] - 63s 253ms/step - loss: 0.1385 - accuracy: 0.9454 - val_loss: 0.7249 - val_accuracy: 0.7849\n",
            "Epoch 57/100\n",
            "250/250 [==============================] - 67s 266ms/step - loss: 0.1363 - accuracy: 0.9470 - val_loss: 0.6907 - val_accuracy: 0.7943\n",
            "Epoch 58/100\n",
            "250/250 [==============================] - 64s 254ms/step - loss: 0.1274 - accuracy: 0.9491 - val_loss: 0.7076 - val_accuracy: 0.7974\n",
            "Epoch 59/100\n",
            "250/250 [==============================] - 64s 258ms/step - loss: 0.1238 - accuracy: 0.9531 - val_loss: 0.7695 - val_accuracy: 0.7958\n",
            "Epoch 60/100\n",
            "250/250 [==============================] - 63s 253ms/step - loss: 0.1184 - accuracy: 0.9542 - val_loss: 0.7811 - val_accuracy: 0.8010\n",
            "Epoch 61/100\n",
            "250/250 [==============================] - 63s 252ms/step - loss: 0.1192 - accuracy: 0.9566 - val_loss: 0.7674 - val_accuracy: 0.7974\n",
            "Epoch 62/100\n",
            "250/250 [==============================] - 63s 252ms/step - loss: 0.1191 - accuracy: 0.9536 - val_loss: 0.7565 - val_accuracy: 0.7948\n",
            "Epoch 63/100\n",
            "250/250 [==============================] - 63s 252ms/step - loss: 0.1067 - accuracy: 0.9585 - val_loss: 0.7646 - val_accuracy: 0.7865\n",
            "Epoch 64/100\n",
            "250/250 [==============================] - 64s 255ms/step - loss: 0.1059 - accuracy: 0.9603 - val_loss: 0.7975 - val_accuracy: 0.7969\n",
            "Epoch 65/100\n",
            "250/250 [==============================] - 64s 256ms/step - loss: 0.1033 - accuracy: 0.9619 - val_loss: 0.7551 - val_accuracy: 0.7990\n",
            "Epoch 66/100\n",
            "250/250 [==============================] - 63s 251ms/step - loss: 0.1200 - accuracy: 0.9542 - val_loss: 0.7445 - val_accuracy: 0.8031\n",
            "Epoch 67/100\n",
            "250/250 [==============================] - 67s 267ms/step - loss: 0.1067 - accuracy: 0.9605 - val_loss: 0.8211 - val_accuracy: 0.7922\n",
            "Epoch 68/100\n",
            "250/250 [==============================] - 63s 253ms/step - loss: 0.1099 - accuracy: 0.9610 - val_loss: 0.7827 - val_accuracy: 0.8036\n",
            "Epoch 69/100\n",
            "250/250 [==============================] - 65s 259ms/step - loss: 0.1036 - accuracy: 0.9617 - val_loss: 0.7827 - val_accuracy: 0.7953\n",
            "Epoch 70/100\n",
            "250/250 [==============================] - 64s 256ms/step - loss: 0.1010 - accuracy: 0.9613 - val_loss: 0.9087 - val_accuracy: 0.7745\n",
            "Epoch 71/100\n",
            "250/250 [==============================] - 63s 252ms/step - loss: 0.0968 - accuracy: 0.9625 - val_loss: 0.9172 - val_accuracy: 0.7802\n",
            "Epoch 72/100\n",
            "250/250 [==============================] - 63s 253ms/step - loss: 0.0835 - accuracy: 0.9689 - val_loss: 0.8268 - val_accuracy: 0.8062\n",
            "Epoch 73/100\n",
            "250/250 [==============================] - 63s 252ms/step - loss: 0.0905 - accuracy: 0.9671 - val_loss: 0.8699 - val_accuracy: 0.7896\n",
            "Epoch 74/100\n",
            "250/250 [==============================] - 63s 253ms/step - loss: 0.0949 - accuracy: 0.9641 - val_loss: 0.8636 - val_accuracy: 0.7854\n",
            "Epoch 75/100\n",
            "250/250 [==============================] - 63s 253ms/step - loss: 0.0842 - accuracy: 0.9697 - val_loss: 0.8638 - val_accuracy: 0.8005\n",
            "Epoch 76/100\n",
            "250/250 [==============================] - 66s 266ms/step - loss: 0.0979 - accuracy: 0.9656 - val_loss: 0.9900 - val_accuracy: 0.7812\n",
            "Epoch 77/100\n",
            "250/250 [==============================] - 63s 253ms/step - loss: 0.0914 - accuracy: 0.9647 - val_loss: 0.8541 - val_accuracy: 0.8047\n",
            "Epoch 78/100\n",
            "250/250 [==============================] - 64s 256ms/step - loss: 0.0790 - accuracy: 0.9709 - val_loss: 0.8983 - val_accuracy: 0.7943\n",
            "Epoch 79/100\n",
            "250/250 [==============================] - 65s 258ms/step - loss: 0.0911 - accuracy: 0.9669 - val_loss: 0.8693 - val_accuracy: 0.8042\n",
            "Epoch 80/100\n",
            "250/250 [==============================] - 64s 256ms/step - loss: 0.0840 - accuracy: 0.9693 - val_loss: 0.8888 - val_accuracy: 0.7922\n",
            "Epoch 81/100\n",
            "250/250 [==============================] - 64s 256ms/step - loss: 0.0888 - accuracy: 0.9672 - val_loss: 0.8740 - val_accuracy: 0.7937\n",
            "Epoch 82/100\n",
            "250/250 [==============================] - 64s 255ms/step - loss: 0.0901 - accuracy: 0.9663 - val_loss: 0.8694 - val_accuracy: 0.7943\n",
            "Epoch 83/100\n",
            "250/250 [==============================] - 64s 255ms/step - loss: 0.0668 - accuracy: 0.9747 - val_loss: 0.9039 - val_accuracy: 0.7922\n",
            "Epoch 84/100\n",
            "250/250 [==============================] - 64s 257ms/step - loss: 0.0849 - accuracy: 0.9680 - val_loss: 0.9282 - val_accuracy: 0.7781\n",
            "Epoch 85/100\n",
            "250/250 [==============================] - 64s 258ms/step - loss: 0.0678 - accuracy: 0.9754 - val_loss: 0.9700 - val_accuracy: 0.7854\n",
            "Epoch 86/100\n",
            "250/250 [==============================] - 68s 271ms/step - loss: 0.0706 - accuracy: 0.9740 - val_loss: 0.9287 - val_accuracy: 0.8042\n",
            "Epoch 87/100\n",
            "250/250 [==============================] - 64s 258ms/step - loss: 0.0762 - accuracy: 0.9725 - val_loss: 0.8955 - val_accuracy: 0.7943\n",
            "Epoch 88/100\n",
            "250/250 [==============================] - 65s 260ms/step - loss: 0.0803 - accuracy: 0.9693 - val_loss: 0.9257 - val_accuracy: 0.8010\n",
            "Epoch 89/100\n",
            "250/250 [==============================] - 65s 260ms/step - loss: 0.0762 - accuracy: 0.9714 - val_loss: 0.9713 - val_accuracy: 0.7745\n",
            "Epoch 90/100\n",
            "250/250 [==============================] - 64s 257ms/step - loss: 0.0631 - accuracy: 0.9768 - val_loss: 1.0316 - val_accuracy: 0.7849\n",
            "Epoch 91/100\n",
            "250/250 [==============================] - 64s 257ms/step - loss: 0.0718 - accuracy: 0.9755 - val_loss: 0.9264 - val_accuracy: 0.7917\n",
            "Epoch 92/100\n",
            "250/250 [==============================] - 64s 257ms/step - loss: 0.0743 - accuracy: 0.9736 - val_loss: 0.9160 - val_accuracy: 0.7948\n",
            "Epoch 93/100\n",
            "250/250 [==============================] - 64s 257ms/step - loss: 0.0611 - accuracy: 0.9768 - val_loss: 1.0254 - val_accuracy: 0.7948\n",
            "Epoch 94/100\n",
            "250/250 [==============================] - 64s 258ms/step - loss: 0.0659 - accuracy: 0.9758 - val_loss: 0.9500 - val_accuracy: 0.7984\n",
            "Epoch 95/100\n",
            "250/250 [==============================] - 68s 272ms/step - loss: 0.0577 - accuracy: 0.9803 - val_loss: 0.9386 - val_accuracy: 0.7880\n",
            "Epoch 96/100\n",
            "250/250 [==============================] - 64s 256ms/step - loss: 0.0650 - accuracy: 0.9764 - val_loss: 1.0276 - val_accuracy: 0.7901\n",
            "Epoch 97/100\n",
            "250/250 [==============================] - 64s 258ms/step - loss: 0.0667 - accuracy: 0.9761 - val_loss: 0.9733 - val_accuracy: 0.7854\n",
            "Epoch 98/100\n",
            "250/250 [==============================] - 65s 261ms/step - loss: 0.0602 - accuracy: 0.9796 - val_loss: 1.0445 - val_accuracy: 0.7922\n",
            "Epoch 99/100\n",
            "250/250 [==============================] - 64s 257ms/step - loss: 0.0693 - accuracy: 0.9764 - val_loss: 0.9909 - val_accuracy: 0.7906\n",
            "Epoch 100/100\n",
            "250/250 [==============================] - 64s 257ms/step - loss: 0.0655 - accuracy: 0.9759 - val_loss: 0.9936 - val_accuracy: 0.7849\n"
          ],
          "name": "stdout"
        },
        {
          "output_type": "execute_result",
          "data": {
            "text/plain": [
              "<tensorflow.python.keras.callbacks.History at 0x7f1133acddd8>"
            ]
          },
          "metadata": {
            "tags": []
          },
          "execution_count": 38
        }
      ]
    },
    {
      "cell_type": "code",
      "metadata": {
        "id": "nHrfupYw897D",
        "colab_type": "code",
        "colab": {
          "base_uri": "https://localhost:8080/",
          "height": 105
        },
        "outputId": "d22148c9-cc5d-4e5d-b603-b1e7edac476a"
      },
      "source": [
        "CNN_Classifier.save(\"/content/drive/My Drive/cnn.model\")"
      ],
      "execution_count": 39,
      "outputs": [
        {
          "output_type": "stream",
          "text": [
            "WARNING:tensorflow:From /usr/local/lib/python3.6/dist-packages/tensorflow/python/ops/resource_variable_ops.py:1817: calling BaseResourceVariable.__init__ (from tensorflow.python.ops.resource_variable_ops) with constraint is deprecated and will be removed in a future version.\n",
            "Instructions for updating:\n",
            "If using Keras pass *_constraint arguments to layers.\n",
            "INFO:tensorflow:Assets written to: /content/drive/My Drive/cnn.model/assets\n"
          ],
          "name": "stdout"
        }
      ]
    },
    {
      "cell_type": "code",
      "metadata": {
        "id": "uWiJUDSa9WCz",
        "colab_type": "code",
        "colab": {}
      },
      "source": [
        "import tensorflow.keras as tf\n",
        "mymodel = tf.models.load_model('/content/drive/My Drive/cnn.model')"
      ],
      "execution_count": 40,
      "outputs": []
    },
    {
      "cell_type": "code",
      "metadata": {
        "id": "RnxO7xo69aKL",
        "colab_type": "code",
        "colab": {
          "base_uri": "https://localhost:8080/",
          "height": 34
        },
        "outputId": "b3ed8376-e06d-48d5-b30f-23a5f9dd332e"
      },
      "source": [
        "import numpy as np\n",
        "from keras.preprocessing import image \n",
        "test_image = image.load_img('dog.jpg',target_size=(64,64))\n",
        "test_image = image.img_to_array(test_image)\n",
        "test_image = np.expand_dims(test_image,axis=0)   ### 1-d array\n",
        "result = mymodel.predict(test_image)\n",
        "if result[0][0] == 1:\n",
        "  prediction = 'dog'\n",
        "  print(prediction)\n",
        "else:\n",
        "  prediction = 'cat'\n",
        "  print(prediction)"
      ],
      "execution_count": 43,
      "outputs": [
        {
          "output_type": "stream",
          "text": [
            "dog\n"
          ],
          "name": "stdout"
        }
      ]
    },
    {
      "cell_type": "code",
      "metadata": {
        "id": "rF797Ta4_rsI",
        "colab_type": "code",
        "colab": {
          "base_uri": "https://localhost:8080/",
          "height": 34
        },
        "outputId": "f933493c-6241-4c55-93f3-5e7f2166706f"
      },
      "source": [
        "result[0][0]\n"
      ],
      "execution_count": 49,
      "outputs": [
        {
          "output_type": "execute_result",
          "data": {
            "text/plain": [
              "1.0"
            ]
          },
          "metadata": {
            "tags": []
          },
          "execution_count": 49
        }
      ]
    }
  ]
}